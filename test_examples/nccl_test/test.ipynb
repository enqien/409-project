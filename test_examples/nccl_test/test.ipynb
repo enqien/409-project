{
 "cells": [
  {
   "cell_type": "code",
   "execution_count": 2,
   "metadata": {},
   "outputs": [
    {
     "name": "stdout",
     "output_type": "stream",
     "text": [
      "[{'TEST_NAME': 'all_reduce_perf', 'SIZE': '32KB', 'ITTER_NUM': 1000000, 'SERVER_GPU': 1, 'CLIENT_GPU': 1, 'agg_iters': 1, 'parallel': True, 'operation': 'sum'}, {'TEST_NAME': 'all_reduce_perf', 'SIZE': '32KB', 'ITTER_NUM': 1000000, 'SERVER_GPU': 1, 'CLIENT_GPU': 1, 'agg_iters': 1, 'parallel': True, 'operation': 'prod'}, {'TEST_NAME': 'all_reduce_perf', 'SIZE': '32KB', 'ITTER_NUM': 1000000, 'SERVER_GPU': 1, 'CLIENT_GPU': 1, 'agg_iters': 1, 'parallel': True, 'operation': 'min'}, {'TEST_NAME': 'all_reduce_perf', 'SIZE': '32KB', 'ITTER_NUM': 1000000, 'SERVER_GPU': 1, 'CLIENT_GPU': 1, 'agg_iters': 1, 'parallel': True, 'operation': 'max'}, {'TEST_NAME': 'all_reduce_perf', 'SIZE': '32KB', 'ITTER_NUM': 1000000, 'SERVER_GPU': 1, 'CLIENT_GPU': 1, 'agg_iters': 1, 'parallel': True, 'operation': 'avg'}, {'TEST_NAME': 'all_reduce_perf', 'SIZE': '32KB', 'ITTER_NUM': 1000000, 'SERVER_GPU': 1, 'CLIENT_GPU': 1, 'agg_iters': 1, 'parallel': False, 'operation': 'sum'}, {'TEST_NAME': 'all_reduce_perf', 'SIZE': '32KB', 'ITTER_NUM': 1000000, 'SERVER_GPU': 1, 'CLIENT_GPU': 1, 'agg_iters': 1, 'parallel': False, 'operation': 'prod'}, {'TEST_NAME': 'all_reduce_perf', 'SIZE': '32KB', 'ITTER_NUM': 1000000, 'SERVER_GPU': 1, 'CLIENT_GPU': 1, 'agg_iters': 1, 'parallel': False, 'operation': 'min'}, {'TEST_NAME': 'all_reduce_perf', 'SIZE': '32KB', 'ITTER_NUM': 1000000, 'SERVER_GPU': 1, 'CLIENT_GPU': 1, 'agg_iters': 1, 'parallel': False, 'operation': 'max'}, {'TEST_NAME': 'all_reduce_perf', 'SIZE': '32KB', 'ITTER_NUM': 1000000, 'SERVER_GPU': 1, 'CLIENT_GPU': 1, 'agg_iters': 1, 'parallel': False, 'operation': 'avg'}, {'TEST_NAME': 'all_reduce_perf', 'SIZE': '32KB', 'ITTER_NUM': 500000, 'SERVER_GPU': 1, 'CLIENT_GPU': 1, 'agg_iters': 5}, {'TEST_NAME': 'all_reduce_perf', 'SIZE': '32KB', 'ITTER_NUM': 250000, 'SERVER_GPU': 1, 'CLIENT_GPU': 1, 'agg_iters': 10}, {'TEST_NAME': 'all_reduce_perf', 'SIZE': '128KB', 'ITTER_NUM': 500000, 'SERVER_GPU': 1, 'CLIENT_GPU': 1, 'agg_iters': 1}, {'TEST_NAME': 'all_reduce_perf', 'SIZE': '128KB', 'ITTER_NUM': 250000, 'SERVER_GPU': 1, 'CLIENT_GPU': 1, 'agg_iters': 5}, {'TEST_NAME': 'all_reduce_perf', 'SIZE': '128KB', 'ITTER_NUM': 125000, 'SERVER_GPU': 1, 'CLIENT_GPU': 1, 'agg_iters': 10}, {'TEST_NAME': 'all_reduce_perf', 'SIZE': '512KB', 'ITTER_NUM': 300000, 'SERVER_GPU': 1, 'CLIENT_GPU': 1, 'agg_iters': 1}, {'TEST_NAME': 'all_reduce_perf', 'SIZE': '512KB', 'ITTER_NUM': 150000, 'SERVER_GPU': 1, 'CLIENT_GPU': 1, 'agg_iters': 5}, {'TEST_NAME': 'all_reduce_perf', 'SIZE': '512KB', 'ITTER_NUM': 75000, 'SERVER_GPU': 1, 'CLIENT_GPU': 1, 'agg_iters': 10}, {'TEST_NAME': 'all_reduce_perf', 'SIZE': '1MB', 'ITTER_NUM': 200000, 'SERVER_GPU': 1, 'CLIENT_GPU': 1, 'agg_iters': 1}, {'TEST_NAME': 'all_reduce_perf', 'SIZE': '1MB', 'ITTER_NUM': 100000, 'SERVER_GPU': 1, 'CLIENT_GPU': 1, 'agg_iters': 5}, {'TEST_NAME': 'all_reduce_perf', 'SIZE': '1MB', 'ITTER_NUM': 50000, 'SERVER_GPU': 1, 'CLIENT_GPU': 1, 'agg_iters': 10}, {'TEST_NAME': 'all_reduce_perf', 'SIZE': '8MB', 'ITTER_NUM': 50000, 'SERVER_GPU': 1, 'CLIENT_GPU': 1, 'agg_iters': 1}, {'TEST_NAME': 'all_reduce_perf', 'SIZE': '8MB', 'ITTER_NUM': 25000, 'SERVER_GPU': 1, 'CLIENT_GPU': 1, 'agg_iters': 5}, {'TEST_NAME': 'all_reduce_perf', 'SIZE': '8MB', 'ITTER_NUM': 12500, 'SERVER_GPU': 1, 'CLIENT_GPU': 1, 'agg_iters': 10}, {'TEST_NAME': 'all_reduce_perf', 'SIZE': '64MB', 'ITTER_NUM': 10000, 'SERVER_GPU': 1, 'CLIENT_GPU': 1, 'agg_iters': 1}, {'TEST_NAME': 'all_reduce_perf', 'SIZE': '64MB', 'ITTER_NUM': 5000, 'SERVER_GPU': 1, 'CLIENT_GPU': 1, 'agg_iters': 5}, {'TEST_NAME': 'all_reduce_perf', 'SIZE': '64MB', 'ITTER_NUM': 2500, 'SERVER_GPU': 1, 'CLIENT_GPU': 1, 'agg_iters': 10}, {'TEST_NAME': 'all_reduce_perf', 'SIZE': '32KB', 'ITTER_NUM': 1000000, 'SERVER_GPU': 2, 'CLIENT_GPU': 2, 'agg_iters': 1}, {'TEST_NAME': 'all_reduce_perf', 'SIZE': '32KB', 'ITTER_NUM': 500000, 'SERVER_GPU': 2, 'CLIENT_GPU': 2, 'agg_iters': 5}, {'TEST_NAME': 'all_reduce_perf', 'SIZE': '32KB', 'ITTER_NUM': 250000, 'SERVER_GPU': 2, 'CLIENT_GPU': 2, 'agg_iters': 10}, {'TEST_NAME': 'all_reduce_perf', 'SIZE': '128KB', 'ITTER_NUM': 500000, 'SERVER_GPU': 2, 'CLIENT_GPU': 2, 'agg_iters': 1}, {'TEST_NAME': 'all_reduce_perf', 'SIZE': '128KB', 'ITTER_NUM': 250000, 'SERVER_GPU': 2, 'CLIENT_GPU': 2, 'agg_iters': 5}, {'TEST_NAME': 'all_reduce_perf', 'SIZE': '128KB', 'ITTER_NUM': 125000, 'SERVER_GPU': 2, 'CLIENT_GPU': 2, 'agg_iters': 10}, {'TEST_NAME': 'all_reduce_perf', 'SIZE': '512KB', 'ITTER_NUM': 300000, 'SERVER_GPU': 2, 'CLIENT_GPU': 2, 'agg_iters': 1}, {'TEST_NAME': 'all_reduce_perf', 'SIZE': '512KB', 'ITTER_NUM': 150000, 'SERVER_GPU': 2, 'CLIENT_GPU': 2, 'agg_iters': 5}, {'TEST_NAME': 'all_reduce_perf', 'SIZE': '512KB', 'ITTER_NUM': 75000, 'SERVER_GPU': 2, 'CLIENT_GPU': 2, 'agg_iters': 10}, {'TEST_NAME': 'all_reduce_perf', 'SIZE': '1MB', 'ITTER_NUM': 200000, 'SERVER_GPU': 2, 'CLIENT_GPU': 2, 'agg_iters': 1}, {'TEST_NAME': 'all_reduce_perf', 'SIZE': '1MB', 'ITTER_NUM': 100000, 'SERVER_GPU': 2, 'CLIENT_GPU': 2, 'agg_iters': 5}, {'TEST_NAME': 'all_reduce_perf', 'SIZE': '1MB', 'ITTER_NUM': 50000, 'SERVER_GPU': 2, 'CLIENT_GPU': 2, 'agg_iters': 10}, {'TEST_NAME': 'all_reduce_perf', 'SIZE': '8MB', 'ITTER_NUM': 50000, 'SERVER_GPU': 2, 'CLIENT_GPU': 2, 'agg_iters': 1}, {'TEST_NAME': 'all_reduce_perf', 'SIZE': '8MB', 'ITTER_NUM': 25000, 'SERVER_GPU': 2, 'CLIENT_GPU': 2, 'agg_iters': 5}, {'TEST_NAME': 'all_reduce_perf', 'SIZE': '8MB', 'ITTER_NUM': 12500, 'SERVER_GPU': 2, 'CLIENT_GPU': 2, 'agg_iters': 10}, {'TEST_NAME': 'all_reduce_perf', 'SIZE': '64MB', 'ITTER_NUM': 10000, 'SERVER_GPU': 2, 'CLIENT_GPU': 2, 'agg_iters': 1}, {'TEST_NAME': 'all_reduce_perf', 'SIZE': '64MB', 'ITTER_NUM': 5000, 'SERVER_GPU': 2, 'CLIENT_GPU': 2, 'agg_iters': 5}, {'TEST_NAME': 'all_reduce_perf', 'SIZE': '64MB', 'ITTER_NUM': 2500, 'SERVER_GPU': 2, 'CLIENT_GPU': 2, 'agg_iters': 10}, {'TEST_NAME': 'all_reduce_perf', 'SIZE': '32KB', 'ITTER_NUM': 1000000, 'SERVER_GPU': 4, 'CLIENT_GPU': 4, 'agg_iters': 1}, {'TEST_NAME': 'all_reduce_perf', 'SIZE': '32KB', 'ITTER_NUM': 500000, 'SERVER_GPU': 4, 'CLIENT_GPU': 4, 'agg_iters': 5}, {'TEST_NAME': 'all_reduce_perf', 'SIZE': '32KB', 'ITTER_NUM': 250000, 'SERVER_GPU': 4, 'CLIENT_GPU': 4, 'agg_iters': 10}, {'TEST_NAME': 'all_reduce_perf', 'SIZE': '128KB', 'ITTER_NUM': 500000, 'SERVER_GPU': 4, 'CLIENT_GPU': 4, 'agg_iters': 1}, {'TEST_NAME': 'all_reduce_perf', 'SIZE': '128KB', 'ITTER_NUM': 250000, 'SERVER_GPU': 4, 'CLIENT_GPU': 4, 'agg_iters': 5}, {'TEST_NAME': 'all_reduce_perf', 'SIZE': '128KB', 'ITTER_NUM': 125000, 'SERVER_GPU': 4, 'CLIENT_GPU': 4, 'agg_iters': 10}, {'TEST_NAME': 'all_reduce_perf', 'SIZE': '512KB', 'ITTER_NUM': 300000, 'SERVER_GPU': 4, 'CLIENT_GPU': 4, 'agg_iters': 1}, {'TEST_NAME': 'all_reduce_perf', 'SIZE': '512KB', 'ITTER_NUM': 150000, 'SERVER_GPU': 4, 'CLIENT_GPU': 4, 'agg_iters': 5}, {'TEST_NAME': 'all_reduce_perf', 'SIZE': '512KB', 'ITTER_NUM': 75000, 'SERVER_GPU': 4, 'CLIENT_GPU': 4, 'agg_iters': 10}, {'TEST_NAME': 'all_reduce_perf', 'SIZE': '1MB', 'ITTER_NUM': 200000, 'SERVER_GPU': 4, 'CLIENT_GPU': 4, 'agg_iters': 1}, {'TEST_NAME': 'all_reduce_perf', 'SIZE': '1MB', 'ITTER_NUM': 100000, 'SERVER_GPU': 4, 'CLIENT_GPU': 4, 'agg_iters': 5}, {'TEST_NAME': 'all_reduce_perf', 'SIZE': '1MB', 'ITTER_NUM': 50000, 'SERVER_GPU': 4, 'CLIENT_GPU': 4, 'agg_iters': 10}, {'TEST_NAME': 'all_reduce_perf', 'SIZE': '8MB', 'ITTER_NUM': 50000, 'SERVER_GPU': 4, 'CLIENT_GPU': 4, 'agg_iters': 1}, {'TEST_NAME': 'all_reduce_perf', 'SIZE': '8MB', 'ITTER_NUM': 25000, 'SERVER_GPU': 4, 'CLIENT_GPU': 4, 'agg_iters': 5}, {'TEST_NAME': 'all_reduce_perf', 'SIZE': '8MB', 'ITTER_NUM': 12500, 'SERVER_GPU': 4, 'CLIENT_GPU': 4, 'agg_iters': 10}, {'TEST_NAME': 'all_reduce_perf', 'SIZE': '64MB', 'ITTER_NUM': 10000, 'SERVER_GPU': 4, 'CLIENT_GPU': 4, 'agg_iters': 1}, {'TEST_NAME': 'all_reduce_perf', 'SIZE': '64MB', 'ITTER_NUM': 5000, 'SERVER_GPU': 4, 'CLIENT_GPU': 4, 'agg_iters': 5}, {'TEST_NAME': 'all_reduce_perf', 'SIZE': '64MB', 'ITTER_NUM': 2500, 'SERVER_GPU': 4, 'CLIENT_GPU': 4, 'agg_iters': 10}]\n"
     ]
    }
   ],
   "source": [
    "import json\n",
    "\n",
    "# 打开 JSON 文件\n",
    "with open('params.json', 'r') as file:\n",
    "    # 使用 json.load 加载 JSON 数据\n",
    "    data = json.load(file)\n",
    "\n",
    "# 打印加载的 JSON 数据\n",
    "print(data)"
   ]
  },
  {
   "cell_type": "code",
   "execution_count": 31,
   "metadata": {},
   "outputs": [],
   "source": [
    "params = []\n",
    "for test_name in [\"all_reduce_perf\"]:\n",
    "    for size , initial_itter_num in [(\"32KB\",1000000),(\"512KB\",300000),(\"8MB\",50000),(\"64MB\",10000)]:\n",
    "        for gpu in [1,2,4]:\n",
    "            for QP in [1,4]:\n",
    "                for idx , agg_iters in enumerate([1,5,10]):\n",
    "                    params.append({\"TEST_NAME\" : test_name,\"SIZE\":size,\"ITTER_NUM\" : initial_itter_num // 2**idx ,\"SERVER_GPU\":gpu,\"CLIENT_GPU\":gpu,\"agg_iters\":agg_iters,\"NCCL_IB_QPS_PER_CONNECTION\":QP,\"parallel\":True})      "
   ]
  },
  {
   "cell_type": "code",
   "execution_count": 32,
   "metadata": {},
   "outputs": [
    {
     "data": {
      "text/plain": [
       "72"
      ]
     },
     "execution_count": 32,
     "metadata": {},
     "output_type": "execute_result"
    }
   ],
   "source": [
    "len(params)"
   ]
  },
  {
   "cell_type": "code",
   "execution_count": 33,
   "metadata": {},
   "outputs": [],
   "source": [
    "\n",
    "with open('params2.json', 'w') as file:\n",
    "    json.dump(params, file)"
   ]
  }
 ],
 "metadata": {
  "kernelspec": {
   "display_name": "Python 3",
   "language": "python",
   "name": "python3"
  },
  "language_info": {
   "codemirror_mode": {
    "name": "ipython",
    "version": 3
   },
   "file_extension": ".py",
   "mimetype": "text/x-python",
   "name": "python",
   "nbconvert_exporter": "python",
   "pygments_lexer": "ipython3",
   "version": "3.6.8"
  },
  "orig_nbformat": 4
 },
 "nbformat": 4,
 "nbformat_minor": 2
}
